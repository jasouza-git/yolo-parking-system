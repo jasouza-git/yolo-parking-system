{
 "cells": [
  {
   "cell_type": "markdown",
   "metadata": {},
   "source": [
    "## Import Packages"
   ]
  },
  {
   "cell_type": "code",
   "execution_count": 1,
   "metadata": {},
   "outputs": [],
   "source": [
    "import cv2 as cv\n",
    "import pandas as pd\n",
    "import numpy as np\n",
    "from ultralytics import YOLO\n",
    "import time"
   ]
  },
  {
   "cell_type": "markdown",
   "metadata": {},
   "source": [
    "## Load Files\n",
    "**Model:** yolov8s.pt\n",
    "\n",
    "**Video:** parking1.mp4\n",
    "\n",
    "**Classifiers:** coco.txt"
   ]
  },
  {
   "cell_type": "code",
   "execution_count": 2,
   "metadata": {},
   "outputs": [],
   "source": [
    "model = YOLO('yolov8s.pt')\n",
    "video = cv.VideoCapture('parking1.mp4')\n",
    "tags  = open('coco.txt', 'r').read().split('\\n')"
   ]
  },
  {
   "cell_type": "markdown",
   "metadata": {},
   "source": [
    "## Scanner"
   ]
  },
  {
   "cell_type": "code",
   "execution_count": 3,
   "metadata": {},
   "outputs": [],
   "source": [
    "def scan(video):\n",
    "    print(1)\n",
    "    ret, frame = video.read()\n",
    "    print(2)\n",
    "    if not ret: return\n",
    "    print(3)\n",
    "\n",
    "    frame = cv.resize(frame, (1020, 500))\n",
    "    print(4)\n",
    "    cv.imshow('Camera', frame)\n",
    "    return\n",
    "    out = model.predict(frame)\n",
    "    print(5)\n",
    "    a = out[0].boxes.data\n",
    "    px = pd.DataFrame(a).astype('float')\n",
    "\n",
    "    for i, r in px.iterrows():\n",
    "        x1 = int(r[0])\n",
    "        y1 = int(r[1])\n",
    "        x2 = int(r[2])\n",
    "        y2 = int(r[3])\n",
    "        d  = int(r[5])\n",
    "        c  = tags[d]\n",
    "\n",
    "        if 'car' in c:\n",
    "            cx = int(x1+x2)//2\n",
    "            cy = int(y1+y2)//2\n",
    "            \n",
    "            #res = cv.pointPolygonTest(np.array())\n",
    "            cv.rectangle(frame, (x1, y1), (x2, y2), (0,255,0), 2)\n",
    "    \n",
    "    cv.imshow('Picture', frame)"
   ]
  },
  {
   "cell_type": "code",
   "execution_count": 4,
   "metadata": {},
   "outputs": [
    {
     "ename": "",
     "evalue": "",
     "output_type": "error",
     "traceback": [
      "\u001b[1;31mThe Kernel crashed while executing code in the current cell or a previous cell. \n",
      "\u001b[1;31mPlease review the code in the cell(s) to identify a possible cause of the failure. \n",
      "\u001b[1;31mClick <a href='https://aka.ms/vscodeJupyterKernelCrash'>here</a> for more info. \n",
      "\u001b[1;31mView Jupyter <a href='command:jupyter.viewOutput'>log</a> for further details."
     ]
    }
   ],
   "source": [
    "scan(video)"
   ]
  },
  {
   "cell_type": "code",
   "execution_count": null,
   "metadata": {},
   "outputs": [],
   "source": []
  }
 ],
 "metadata": {
  "kernelspec": {
   "display_name": "Python 3",
   "language": "python",
   "name": "python3"
  },
  "language_info": {
   "codemirror_mode": {
    "name": "ipython",
    "version": 3
   },
   "file_extension": ".py",
   "mimetype": "text/x-python",
   "name": "python",
   "nbconvert_exporter": "python",
   "pygments_lexer": "ipython3",
   "version": "3.10.13"
  }
 },
 "nbformat": 4,
 "nbformat_minor": 2
}
